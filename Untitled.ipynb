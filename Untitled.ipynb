{
 "cells": [
  {
   "cell_type": "code",
   "execution_count": 1,
   "id": "7d2cc73e",
   "metadata": {},
   "outputs": [],
   "source": [
    "WORKSPACE_PATH = 'Tensorflow/workspace'\n",
    "SCRIPTS_PATH = 'Tensorflow/scripts'\n",
    "APIMODEL_PATH = 'Tensorflow/models'\n",
    "ANNOTATION_PATH = WORKSPACE_PATH+'/annotations'\n",
    "IMAGE_PATH = WORKSPACE_PATH+'/images'\n",
    "MODEL_PATH = WORKSPACE_PATH+'/models'\n",
    "PRETRAINED_MODEL_PATH = WORKSPACE_PATH+'/pre-trained-models'\n",
    "CONFIG_PATH = MODEL_PATH+'/my_ssd_mobnet/pipeline.config'\n",
    "CHECKPOINT_PATH = MODEL_PATH+'/my_ssd_mobnet/'\n",
    "import pandas as pd\n"
   ]
  },
  {
   "cell_type": "code",
   "execution_count": 2,
   "id": "6759579f",
   "metadata": {},
   "outputs": [],
   "source": [
    "labels = [{'name':'Mask', 'id':1}, {'name':'NoMask', 'id':2}]"
   ]
  },
  {
   "cell_type": "code",
   "execution_count": 3,
   "id": "6661473f",
   "metadata": {},
   "outputs": [
    {
     "data": {
      "text/plain": [
       "[{'name': 'Mask', 'id': 1}, {'name': 'NoMask', 'id': 2}]"
      ]
     },
     "execution_count": 3,
     "metadata": {},
     "output_type": "execute_result"
    }
   ],
   "source": [
    "labels"
   ]
  },
  {
   "cell_type": "code",
   "execution_count": 4,
   "id": "eb9e93e5",
   "metadata": {},
   "outputs": [],
   "source": [
    "with open(ANNOTATION_PATH + '\\label_map.pbtxt', 'w') as f:\n",
    "    for label in labels:\n",
    "        f.write('item { \\n')\n",
    "        f.write('\\tname:\\'{}\\'\\n'.format(label['name']))\n",
    "        f.write('\\tid:{}\\n'.format(label['id']))\n",
    "        f.write('}\\n')"
   ]
  },
  {
   "cell_type": "code",
   "execution_count": 5,
   "id": "de498abc",
   "metadata": {},
   "outputs": [
    {
     "name": "stderr",
     "output_type": "stream",
     "text": [
      "Traceback (most recent call last):\n",
      "  File \"D:\\RealTimeObjectDetection\\Tensorflow\\scripts\\generate_tfrecord.py\", line 29, in <module>\n",
      "    from object_detection.utils import dataset_util, label_map_util\n",
      "ModuleNotFoundError: No module named 'object_detection'\n"
     ]
    }
   ],
   "source": [
    "!python {SCRIPTS_PATH + '/generate_tfrecord.py'} -x {IMAGE_PATH + '/train'} -l {ANNOTATION_PATH + '/label_map.pbtxt'} -o {ANNOTATION_PATH + '/train.record'}\n"
   ]
  },
  {
   "cell_type": "code",
   "execution_count": 19,
   "id": "fa9151fb",
   "metadata": {
    "collapsed": true
   },
   "outputs": [
    {
     "name": "stderr",
     "output_type": "stream",
     "text": [
      "Cloning into 'models'...\n",
      "Updating files:  14% (482/3320)\n",
      "Updating files:  15% (498/3320)\n",
      "Updating files:  16% (532/3320)\n",
      "Updating files:  17% (565/3320)\n",
      "Updating files:  18% (598/3320)\n",
      "Updating files:  19% (631/3320)\n",
      "Updating files:  20% (664/3320)\n",
      "Updating files:  21% (698/3320)\n",
      "Updating files:  21% (728/3320)\n",
      "Updating files:  22% (731/3320)\n",
      "Updating files:  23% (764/3320)\n",
      "Updating files:  23% (789/3320)\n",
      "Updating files:  24% (797/3320)\n",
      "Updating files:  25% (830/3320)\n",
      "Updating files:  26% (864/3320)\n",
      "Updating files:  27% (897/3320)\n",
      "Updating files:  28% (930/3320)\n",
      "Updating files:  29% (963/3320)\n",
      "Updating files:  30% (996/3320)\n",
      "Updating files:  31% (1030/3320)\n",
      "Updating files:  32% (1063/3320)\n",
      "Updating files:  33% (1096/3320)\n",
      "Updating files:  33% (1099/3320)\n",
      "Updating files:  34% (1129/3320)\n",
      "Updating files:  35% (1162/3320)\n",
      "Updating files:  36% (1196/3320)\n",
      "Updating files:  37% (1229/3320)\n",
      "Updating files:  37% (1246/3320)\n",
      "Updating files:  38% (1262/3320)\n",
      "Updating files:  39% (1295/3320)\n",
      "Updating files:  40% (1328/3320)\n",
      "Updating files:  41% (1362/3320)\n",
      "Updating files:  41% (1382/3320)\n",
      "Updating files:  42% (1395/3320)\n",
      "Updating files:  43% (1428/3320)\n",
      "Updating files:  44% (1461/3320)\n",
      "Updating files:  45% (1494/3320)\n",
      "Updating files:  46% (1528/3320)\n",
      "Updating files:  47% (1561/3320)\n",
      "Updating files:  48% (1594/3320)\n",
      "Updating files:  48% (1621/3320)\n",
      "Updating files:  49% (1627/3320)\n",
      "Updating files:  50% (1660/3320)\n",
      "Updating files:  51% (1694/3320)\n",
      "Updating files:  52% (1727/3320)\n",
      "Updating files:  53% (1760/3320)\n",
      "Updating files:  54% (1793/3320)\n",
      "Updating files:  55% (1826/3320)\n",
      "Updating files:  56% (1860/3320)\n",
      "Updating files:  57% (1893/3320)\n",
      "Updating files:  58% (1926/3320)\n",
      "Updating files:  59% (1959/3320)\n",
      "Updating files:  60% (1992/3320)\n",
      "Updating files:  61% (2026/3320)\n",
      "Updating files:  61% (2035/3320)\n",
      "Updating files:  62% (2059/3320)\n",
      "Updating files:  63% (2092/3320)\n",
      "Updating files:  64% (2125/3320)\n",
      "Updating files:  65% (2158/3320)\n",
      "Updating files:  66% (2192/3320)\n",
      "Updating files:  67% (2225/3320)\n",
      "Updating files:  68% (2258/3320)\n",
      "Updating files:  69% (2291/3320)\n",
      "Updating files:  70% (2324/3320)\n",
      "Updating files:  71% (2358/3320)\n",
      "Updating files:  72% (2391/3320)\n",
      "Updating files:  73% (2424/3320)\n",
      "Updating files:  73% (2447/3320)\n",
      "Updating files:  74% (2457/3320)\n",
      "Updating files:  75% (2490/3320)\n",
      "Updating files:  76% (2524/3320)\n",
      "Updating files:  77% (2557/3320)\n",
      "Updating files:  78% (2590/3320)\n",
      "Updating files:  79% (2623/3320)\n",
      "Updating files:  80% (2656/3320)\n",
      "Updating files:  81% (2690/3320)\n",
      "Updating files:  82% (2723/3320)\n",
      "Updating files:  83% (2756/3320)\n",
      "Updating files:  84% (2789/3320)\n",
      "Updating files:  85% (2822/3320)\n",
      "Updating files:  86% (2856/3320)\n",
      "Updating files:  87% (2889/3320)\n",
      "Updating files:  88% (2922/3320)\n",
      "Updating files:  89% (2955/3320)\n",
      "Updating files:  89% (2957/3320)\n",
      "Updating files:  90% (2988/3320)\n",
      "Updating files:  91% (3022/3320)\n",
      "Updating files:  92% (3055/3320)\n",
      "Updating files:  93% (3088/3320)\n",
      "Updating files:  94% (3121/3320)\n",
      "Updating files:  95% (3154/3320)\n",
      "Updating files:  96% (3188/3320)\n",
      "Updating files:  97% (3221/3320)\n",
      "Updating files:  98% (3254/3320)\n",
      "Updating files:  99% (3287/3320)\n",
      "Updating files: 100% (3320/3320)\n",
      "Updating files: 100% (3320/3320), done.\n"
     ]
    }
   ],
   "source": [
    "!cd Tensorflow && git clone https://github.com/tensorflow/models"
   ]
  },
  {
   "cell_type": "code",
   "execution_count": 32,
   "id": "e4deabe2",
   "metadata": {},
   "outputs": [
    {
     "name": "stdout",
     "output_type": "stream",
     "text": [
      "Defaulting to user installation because normal site-packages is not writeable\n",
      "Requirement already satisfied: pandas in c:\\users\\kshitij pratap tomer\\appdata\\roaming\\python\\python311\\site-packages (1.5.3)\n",
      "Requirement already satisfied: python-dateutil>=2.8.1 in c:\\users\\kshitij pratap tomer\\appdata\\roaming\\python\\python311\\site-packages (from pandas) (2.8.2)\n",
      "Requirement already satisfied: pytz>=2020.1 in c:\\users\\kshitij pratap tomer\\appdata\\roaming\\python\\python311\\site-packages (from pandas) (2022.7.1)\n",
      "Requirement already satisfied: numpy>=1.21.0 in c:\\program files\\python311\\lib\\site-packages (from pandas) (1.24.1)\n",
      "Requirement already satisfied: six>=1.5 in c:\\users\\kshitij pratap tomer\\appdata\\roaming\\python\\python311\\site-packages (from python-dateutil>=2.8.1->pandas) (1.16.0)\n"
     ]
    }
   ],
   "source": [
    "!pip install pandas\n"
   ]
  },
  {
   "cell_type": "code",
   "execution_count": 33,
   "id": "e9cea4a6",
   "metadata": {},
   "outputs": [
    {
     "name": "stdout",
     "output_type": "stream",
     "text": [
      "Defaulting to user installation because normal site-packages is not writeable\n",
      "Requirement already satisfied: numpy in c:\\program files\\python311\\lib\\site-packages (1.24.1)\n"
     ]
    }
   ],
   "source": [
    "!pip install numpy"
   ]
  },
  {
   "cell_type": "code",
   "execution_count": 25,
   "id": "ead65046",
   "metadata": {},
   "outputs": [],
   "source": [
    "CUSTOM_MODEL_NAME = 'my_ssd_mobnet' "
   ]
  },
  {
   "cell_type": "code",
   "execution_count": 27,
   "id": "a4055298",
   "metadata": {},
   "outputs": [
    {
     "name": "stderr",
     "output_type": "stream",
     "text": [
      "A subdirectory or file Tensorflow\\workspace\\models\\my_ssd_mobnet already exists.\n"
     ]
    },
    {
     "name": "stdout",
     "output_type": "stream",
     "text": [
      "The syntax of the command is incorrect.\n"
     ]
    }
   ],
   "source": [
    "!mkdir {'Tensorflow\\workspace\\models\\\\'+CUSTOM_MODEL_NAME}\n",
    "!copy {PRETRAINED_MODEL_PATH+'/ssd_mobilenet_v2_fpnlite_320x320_coco17_tpu-8/pipeline.config'} {MODEL_PATH+'/'+CUSTOM_MODEL_NAME}"
   ]
  },
  {
   "cell_type": "code",
   "execution_count": 6,
   "id": "e1d9348a",
   "metadata": {},
   "outputs": [
    {
     "ename": "ModuleNotFoundError",
     "evalue": "No module named 'object_detection'",
     "output_type": "error",
     "traceback": [
      "\u001b[1;31m---------------------------------------------------------------------------\u001b[0m",
      "\u001b[1;31mModuleNotFoundError\u001b[0m                       Traceback (most recent call last)",
      "\u001b[1;32m~\\AppData\\Local\\Temp\\ipykernel_19900\\880287751.py\u001b[0m in \u001b[0;36m<module>\u001b[1;34m\u001b[0m\n\u001b[0;32m      1\u001b[0m \u001b[1;32mimport\u001b[0m \u001b[0mtensorflow\u001b[0m \u001b[1;32mas\u001b[0m \u001b[0mtf\u001b[0m\u001b[1;33m\u001b[0m\u001b[1;33m\u001b[0m\u001b[0m\n\u001b[1;32m----> 2\u001b[1;33m \u001b[1;32mfrom\u001b[0m \u001b[0mobject_detection\u001b[0m\u001b[1;33m.\u001b[0m\u001b[0mutils\u001b[0m \u001b[1;32mimport\u001b[0m \u001b[0mconfig_util\u001b[0m\u001b[1;33m\u001b[0m\u001b[1;33m\u001b[0m\u001b[0m\n\u001b[0m\u001b[0;32m      3\u001b[0m \u001b[1;32mfrom\u001b[0m \u001b[0mobject_detection\u001b[0m\u001b[1;33m.\u001b[0m\u001b[0mprotos\u001b[0m \u001b[1;32mimport\u001b[0m \u001b[0mpipeline_pb2\u001b[0m\u001b[1;33m\u001b[0m\u001b[1;33m\u001b[0m\u001b[0m\n\u001b[0;32m      4\u001b[0m \u001b[1;32mfrom\u001b[0m \u001b[0mgoogle\u001b[0m\u001b[1;33m.\u001b[0m\u001b[0mprotobuf\u001b[0m \u001b[1;32mimport\u001b[0m \u001b[0mtext_format\u001b[0m\u001b[1;33m\u001b[0m\u001b[1;33m\u001b[0m\u001b[0m\n",
      "\u001b[1;31mModuleNotFoundError\u001b[0m: No module named 'object_detection'"
     ]
    }
   ],
   "source": [
    "import tensorflow as tf\n",
    "from object_detection.utils import config_util\n",
    "from object_detection.protos import pipeline_pb2\n",
    "from google.protobuf import text_format"
   ]
  },
  {
   "cell_type": "code",
   "execution_count": null,
   "id": "d725736d",
   "metadata": {},
   "outputs": [],
   "source": [
    "\n",
    "CONFIG_PATH = MODEL_PATH+'/'+CUSTOM_MODEL_NAME+'/pipeline.config'"
   ]
  },
  {
   "cell_type": "code",
   "execution_count": null,
   "id": "b20cd1e7",
   "metadata": {},
   "outputs": [],
   "source": [
    "config = config_util.get_configs_from_pipeline_file(CONFIG_PATH)"
   ]
  },
  {
   "cell_type": "code",
   "execution_count": null,
   "id": "fbe42494",
   "metadata": {},
   "outputs": [],
   "source": [
    "config"
   ]
  },
  {
   "cell_type": "code",
   "execution_count": null,
   "id": "d9d40a06",
   "metadata": {},
   "outputs": [],
   "source": [
    "config = config_util.get_configs_from_pipeline_file(CONFIG_PATH)"
   ]
  },
  {
   "cell_type": "code",
   "execution_count": 31,
   "id": "7752c56a",
   "metadata": {},
   "outputs": [
    {
     "name": "stderr",
     "output_type": "stream",
     "text": [
      "ERROR: Could not find a version that satisfies the requirement tensorflow (from versions: none)\n",
      "ERROR: No matching distribution found for tensorflow\n"
     ]
    },
    {
     "name": "stdout",
     "output_type": "stream",
     "text": [
      "Defaulting to user installation because normal site-packages is not writeable\n"
     ]
    }
   ],
   "source": [
    "!pip install tensorflow"
   ]
  },
  {
   "cell_type": "code",
   "execution_count": null,
   "id": "afd31a2f",
   "metadata": {},
   "outputs": [],
   "source": []
  },
  {
   "cell_type": "code",
   "execution_count": null,
   "id": "3bd87536",
   "metadata": {},
   "outputs": [],
   "source": []
  },
  {
   "cell_type": "code",
   "execution_count": null,
   "id": "a081ef95",
   "metadata": {},
   "outputs": [],
   "source": []
  },
  {
   "cell_type": "code",
   "execution_count": null,
   "id": "1748704a",
   "metadata": {},
   "outputs": [],
   "source": []
  }
 ],
 "metadata": {
  "kernelspec": {
   "display_name": "Python 3 (ipykernel)",
   "language": "python",
   "name": "python3"
  },
  "language_info": {
   "codemirror_mode": {
    "name": "ipython",
    "version": 3
   },
   "file_extension": ".py",
   "mimetype": "text/x-python",
   "name": "python",
   "nbconvert_exporter": "python",
   "pygments_lexer": "ipython3",
   "version": "3.9.13"
  }
 },
 "nbformat": 4,
 "nbformat_minor": 5
}
